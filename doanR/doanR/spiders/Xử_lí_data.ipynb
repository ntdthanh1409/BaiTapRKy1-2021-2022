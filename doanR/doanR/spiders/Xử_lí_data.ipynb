{
  "nbformat": 4,
  "nbformat_minor": 0,
  "metadata": {
    "colab": {
      "name": "Xử_lí_data.ipynb",
      "provenance": [],
      "collapsed_sections": []
    },
    "kernelspec": {
      "name": "python3",
      "display_name": "Python 3"
    },
    "language_info": {
      "name": "python"
    }
  },
  "cells": [
    {
      "cell_type": "code",
      "execution_count": 1,
      "metadata": {
        "id": "8KX4dZHTDbw1"
      },
      "outputs": [],
      "source": [
        "# import thư viện\n",
        "import numpy as np\n",
        "import pandas as pd\n"
      ]
    },
    {
      "cell_type": "code",
      "source": [
        "# load data\n",
        "data = pd.read_csv('1.csv', encoding= 'utf-8')\n",
        "data.head(10)"
      ],
      "metadata": {
        "colab": {
          "base_uri": "https://localhost:8080/",
          "height": 363
        },
        "id": "9mZMUCj0DqsS",
        "outputId": "58911c8a-2427-4056-c8fa-c7618e951304"
      },
      "execution_count": 2,
      "outputs": [
        {
          "output_type": "execute_result",
          "data": {
            "text/html": [
              "\n",
              "  <div id=\"df-10b96ce9-f8a7-4a1e-b741-6946a199c454\">\n",
              "    <div class=\"colab-df-container\">\n",
              "      <div>\n",
              "<style scoped>\n",
              "    .dataframe tbody tr th:only-of-type {\n",
              "        vertical-align: middle;\n",
              "    }\n",
              "\n",
              "    .dataframe tbody tr th {\n",
              "        vertical-align: top;\n",
              "    }\n",
              "\n",
              "    .dataframe thead th {\n",
              "        text-align: right;\n",
              "    }\n",
              "</style>\n",
              "<table border=\"1\" class=\"dataframe\">\n",
              "  <thead>\n",
              "    <tr style=\"text-align: right;\">\n",
              "      <th></th>\n",
              "      <th>artist</th>\n",
              "      <th>author</th>\n",
              "      <th>gernes</th>\n",
              "      <th>heart</th>\n",
              "      <th>name</th>\n",
              "      <th>star</th>\n",
              "      <th>view</th>\n",
              "      <th>words</th>\n",
              "    </tr>\n",
              "  </thead>\n",
              "  <tbody>\n",
              "    <tr>\n",
              "      <th>0</th>\n",
              "      <td>NaN</td>\n",
              "      <td>風井明日香</td>\n",
              "      <td>Comedy,Romance,Supernatural,Web Novel,Slice of...</td>\n",
              "      <td>614</td>\n",
              "      <td>Mandarin Orange, Kotatsu, And A Found Cat</td>\n",
              "      <td>4.9</td>\n",
              "      <td>36519</td>\n",
              "      <td>28056</td>\n",
              "    </tr>\n",
              "    <tr>\n",
              "      <th>1</th>\n",
              "      <td>NaN</td>\n",
              "      <td>Serian</td>\n",
              "      <td>Comedy,Fantasy,Historical,Josei,Korean Novel,P...</td>\n",
              "      <td>55</td>\n",
              "      <td>Ốm đau ư? Cô vợ hợp đồng của công tước.</td>\n",
              "      <td>4.1</td>\n",
              "      <td>10448</td>\n",
              "      <td>27307</td>\n",
              "    </tr>\n",
              "    <tr>\n",
              "      <th>2</th>\n",
              "      <td>Fuumi</td>\n",
              "      <td>Natsunomi</td>\n",
              "      <td>Comedy,Romance,School Life,Slice of Life</td>\n",
              "      <td>2414</td>\n",
              "      <td>Koibito Daikou wo hajimeta Ore, naze ka Bishou...</td>\n",
              "      <td>4.9</td>\n",
              "      <td>284252</td>\n",
              "      <td>203751</td>\n",
              "    </tr>\n",
              "    <tr>\n",
              "      <th>3</th>\n",
              "      <td>NaN</td>\n",
              "      <td>Gennou Tomohiro</td>\n",
              "      <td>One shot,Romance</td>\n",
              "      <td>1</td>\n",
              "      <td>Two Quarrelsome Childhood Friends Locked In A ...</td>\n",
              "      <td>0.0</td>\n",
              "      <td>21</td>\n",
              "      <td>2953</td>\n",
              "    </tr>\n",
              "    <tr>\n",
              "      <th>4</th>\n",
              "      <td>Toi8</td>\n",
              "      <td>門司柿家 ( Mojikakiya)</td>\n",
              "      <td>Comedy,Fantasy</td>\n",
              "      <td>198</td>\n",
              "      <td>Boukensha ni Naritai to Miyako ni Deteitta Mus...</td>\n",
              "      <td>5.0</td>\n",
              "      <td>37612</td>\n",
              "      <td>28303</td>\n",
              "    </tr>\n",
              "    <tr>\n",
              "      <th>5</th>\n",
              "      <td>Achiki [ Aちき ]</td>\n",
              "      <td>Izumi [ 泉 ]</td>\n",
              "      <td>Action,Adapted to Manga,Comedy,Fantasy,Harem,I...</td>\n",
              "      <td>1135</td>\n",
              "      <td>Ore no Shibou Flag ga Todomaru Tokoro wo Shiranai</td>\n",
              "      <td>4.9</td>\n",
              "      <td>117953</td>\n",
              "      <td>96163</td>\n",
              "    </tr>\n",
              "    <tr>\n",
              "      <th>6</th>\n",
              "      <td>NaN</td>\n",
              "      <td>Agar Jelly / Kanten Jelly / 寒天ゼリヰ</td>\n",
              "      <td>Action,Adventure,Comedy,Ecchi,Harem,Mecha,Scie...</td>\n",
              "      <td>51</td>\n",
              "      <td>The Story of an Ace Pilot Who Is the Only Man ...</td>\n",
              "      <td>4.8</td>\n",
              "      <td>1440</td>\n",
              "      <td>1777</td>\n",
              "    </tr>\n",
              "    <tr>\n",
              "      <th>7</th>\n",
              "      <td>たん旦; Tantan</td>\n",
              "      <td>氷高悠 ; Yuu Hidaka</td>\n",
              "      <td>Comedy,Romance,School Life</td>\n",
              "      <td>4574</td>\n",
              "      <td>My Plain-looking Fiancee is Secretly Sweet wit...</td>\n",
              "      <td>4.9</td>\n",
              "      <td>1040894</td>\n",
              "      <td>123056</td>\n",
              "    </tr>\n",
              "    <tr>\n",
              "      <th>8</th>\n",
              "      <td>chibi</td>\n",
              "      <td>Kuji Furumiya</td>\n",
              "      <td>Action,Adapted to Manga,Comedy,Fantasy,Romance</td>\n",
              "      <td>380</td>\n",
              "      <td>Unnamed Memory</td>\n",
              "      <td>5.0</td>\n",
              "      <td>20819</td>\n",
              "      <td>113943</td>\n",
              "    </tr>\n",
              "    <tr>\n",
              "      <th>9</th>\n",
              "      <td>Chyko</td>\n",
              "      <td>Tsukikage</td>\n",
              "      <td>Action,Adapted to Manga,Comedy,Fantasy,Harem</td>\n",
              "      <td>1910</td>\n",
              "      <td>Nageki no Bourei wa Intai Shitai - Saijiyaku H...</td>\n",
              "      <td>4.9</td>\n",
              "      <td>828489</td>\n",
              "      <td>557744</td>\n",
              "    </tr>\n",
              "  </tbody>\n",
              "</table>\n",
              "</div>\n",
              "      <button class=\"colab-df-convert\" onclick=\"convertToInteractive('df-10b96ce9-f8a7-4a1e-b741-6946a199c454')\"\n",
              "              title=\"Convert this dataframe to an interactive table.\"\n",
              "              style=\"display:none;\">\n",
              "        \n",
              "  <svg xmlns=\"http://www.w3.org/2000/svg\" height=\"24px\"viewBox=\"0 0 24 24\"\n",
              "       width=\"24px\">\n",
              "    <path d=\"M0 0h24v24H0V0z\" fill=\"none\"/>\n",
              "    <path d=\"M18.56 5.44l.94 2.06.94-2.06 2.06-.94-2.06-.94-.94-2.06-.94 2.06-2.06.94zm-11 1L8.5 8.5l.94-2.06 2.06-.94-2.06-.94L8.5 2.5l-.94 2.06-2.06.94zm10 10l.94 2.06.94-2.06 2.06-.94-2.06-.94-.94-2.06-.94 2.06-2.06.94z\"/><path d=\"M17.41 7.96l-1.37-1.37c-.4-.4-.92-.59-1.43-.59-.52 0-1.04.2-1.43.59L10.3 9.45l-7.72 7.72c-.78.78-.78 2.05 0 2.83L4 21.41c.39.39.9.59 1.41.59.51 0 1.02-.2 1.41-.59l7.78-7.78 2.81-2.81c.8-.78.8-2.07 0-2.86zM5.41 20L4 18.59l7.72-7.72 1.47 1.35L5.41 20z\"/>\n",
              "  </svg>\n",
              "      </button>\n",
              "      \n",
              "  <style>\n",
              "    .colab-df-container {\n",
              "      display:flex;\n",
              "      flex-wrap:wrap;\n",
              "      gap: 12px;\n",
              "    }\n",
              "\n",
              "    .colab-df-convert {\n",
              "      background-color: #E8F0FE;\n",
              "      border: none;\n",
              "      border-radius: 50%;\n",
              "      cursor: pointer;\n",
              "      display: none;\n",
              "      fill: #1967D2;\n",
              "      height: 32px;\n",
              "      padding: 0 0 0 0;\n",
              "      width: 32px;\n",
              "    }\n",
              "\n",
              "    .colab-df-convert:hover {\n",
              "      background-color: #E2EBFA;\n",
              "      box-shadow: 0px 1px 2px rgba(60, 64, 67, 0.3), 0px 1px 3px 1px rgba(60, 64, 67, 0.15);\n",
              "      fill: #174EA6;\n",
              "    }\n",
              "\n",
              "    [theme=dark] .colab-df-convert {\n",
              "      background-color: #3B4455;\n",
              "      fill: #D2E3FC;\n",
              "    }\n",
              "\n",
              "    [theme=dark] .colab-df-convert:hover {\n",
              "      background-color: #434B5C;\n",
              "      box-shadow: 0px 1px 3px 1px rgba(0, 0, 0, 0.15);\n",
              "      filter: drop-shadow(0px 1px 2px rgba(0, 0, 0, 0.3));\n",
              "      fill: #FFFFFF;\n",
              "    }\n",
              "  </style>\n",
              "\n",
              "      <script>\n",
              "        const buttonEl =\n",
              "          document.querySelector('#df-10b96ce9-f8a7-4a1e-b741-6946a199c454 button.colab-df-convert');\n",
              "        buttonEl.style.display =\n",
              "          google.colab.kernel.accessAllowed ? 'block' : 'none';\n",
              "\n",
              "        async function convertToInteractive(key) {\n",
              "          const element = document.querySelector('#df-10b96ce9-f8a7-4a1e-b741-6946a199c454');\n",
              "          const dataTable =\n",
              "            await google.colab.kernel.invokeFunction('convertToInteractive',\n",
              "                                                     [key], {});\n",
              "          if (!dataTable) return;\n",
              "\n",
              "          const docLinkHtml = 'Like what you see? Visit the ' +\n",
              "            '<a target=\"_blank\" href=https://colab.research.google.com/notebooks/data_table.ipynb>data table notebook</a>'\n",
              "            + ' to learn more about interactive tables.';\n",
              "          element.innerHTML = '';\n",
              "          dataTable['output_type'] = 'display_data';\n",
              "          await google.colab.output.renderOutput(dataTable, element);\n",
              "          const docLink = document.createElement('div');\n",
              "          docLink.innerHTML = docLinkHtml;\n",
              "          element.appendChild(docLink);\n",
              "        }\n",
              "      </script>\n",
              "    </div>\n",
              "  </div>\n",
              "  "
            ],
            "text/plain": [
              "           artist                             author  ...     view   words\n",
              "0             NaN                              風井明日香  ...    36519   28056\n",
              "1             NaN                             Serian  ...    10448   27307\n",
              "2           Fuumi                          Natsunomi  ...   284252  203751\n",
              "3             NaN                    Gennou Tomohiro  ...       21    2953\n",
              "4            Toi8                 門司柿家 ( Mojikakiya)  ...    37612   28303\n",
              "5  Achiki [ Aちき ]                        Izumi [ 泉 ]  ...   117953   96163\n",
              "6             NaN  Agar Jelly / Kanten Jelly / 寒天ゼリヰ  ...     1440    1777\n",
              "7     たん旦; Tantan                   氷高悠 ; Yuu Hidaka  ...  1040894  123056\n",
              "8           chibi                      Kuji Furumiya  ...    20819  113943\n",
              "9           Chyko                          Tsukikage  ...   828489  557744\n",
              "\n",
              "[10 rows x 8 columns]"
            ]
          },
          "metadata": {},
          "execution_count": 2
        }
      ]
    },
    {
      "cell_type": "code",
      "source": [
        "df_1 = data['gernes']\n",
        "df_1\n"
      ],
      "metadata": {
        "colab": {
          "base_uri": "https://localhost:8080/"
        },
        "id": "WmQJCL02D9ZI",
        "outputId": "47280e9d-f0b3-4c74-e721-c21f2154258b"
      },
      "execution_count": 16,
      "outputs": [
        {
          "output_type": "execute_result",
          "data": {
            "text/plain": [
              "0       Comedy,Romance,Supernatural,Web Novel,Slice of...\n",
              "1       Comedy,Fantasy,Historical,Josei,Korean Novel,P...\n",
              "2                Comedy,Romance,School Life,Slice of Life\n",
              "3                                        One shot,Romance\n",
              "4                                          Comedy,Fantasy\n",
              "                              ...                        \n",
              "1929        Drama,Harem,Romance,School Life,Slice of Life\n",
              "1930     Comedy,Romance,School Life,Shounen,Slice of Life\n",
              "1931             Comedy,Romance,School Life,Slice of Life\n",
              "1932    Action,Adventure,Drama,Fantasy,Horror,Mature,P...\n",
              "1933    Adult,Drama,Mature,Netorare,Psychological,Scho...\n",
              "Name: gernes, Length: 1934, dtype: object"
            ]
          },
          "metadata": {},
          "execution_count": 16
        }
      ]
    },
    {
      "cell_type": "code",
      "source": [
        "# Đếm có bao nhiêu Ln/ WN thuộc thể loại Action, Comedy\n",
        "count = 0\n",
        "for i in df_1:\n",
        "  isAction = False \n",
        "  isComedy = False\n",
        "  t = i.split(',') # chuyển string thành list. Ex: 'a, b, c' -> ['a', 'b', c'']\n",
        "  for x in t:\n",
        "    x = x.strip() # xoá khoảng trắng đầu và cuối kí tự ex: ' a' or 'a ' -> 'a'\n",
        "    if x == 'Comedy':\n",
        "      isComedy = True\n",
        "    if x == 'Action':\n",
        "      isAction = True\n",
        "  if isComedy == True and isAction == True:\n",
        "    count += 1\n",
        "print(count)\n",
        "      "
      ],
      "metadata": {
        "colab": {
          "base_uri": "https://localhost:8080/"
        },
        "id": "DhZ_ZHVZkWsp",
        "outputId": "e057733e-33a1-466b-d594-43cabc5eb91f"
      },
      "execution_count": 22,
      "outputs": [
        {
          "output_type": "stream",
          "name": "stdout",
          "text": [
            "479\n"
          ]
        }
      ]
    },
    {
      "cell_type": "code",
      "source": [
        "# Đếm có bao nhiêu truyện thuộc thể loại Romance\n",
        "count = 0\n",
        "for i in df_1:\n",
        "  isRomance = False\n",
        "  t = i.split(',')\n",
        "  for x in t:\n",
        "    x = x.strip()\n",
        "    if x == 'Romance':\n",
        "      isRomance = True\n",
        "  if isRomance == True:\n",
        "    count+=1\n",
        "  \n",
        "print(count)"
      ],
      "metadata": {
        "colab": {
          "base_uri": "https://localhost:8080/"
        },
        "id": "ikN6cDUvmV2M",
        "outputId": "fd2a38da-6ac6-45b8-cc3a-ac7743405351"
      },
      "execution_count": 29,
      "outputs": [
        {
          "output_type": "stream",
          "name": "stdout",
          "text": [
            "1182\n"
          ]
        }
      ]
    },
    {
      "cell_type": "code",
      "source": [
        "# list các thể loại truyện\n",
        "gernes = []\n",
        "for i in df_1:\n",
        "  t = i.split(',')\n",
        "  for x in t:\n",
        "    x = x.strip()\n",
        "    if x not in gernes:\n",
        "      gernes.append(x)"
      ],
      "metadata": {
        "id": "MbC0SA9Sb4ni"
      },
      "execution_count": 45,
      "outputs": []
    },
    {
      "cell_type": "code",
      "source": [
        "gernes.sort() # sắp xếp theo bảng chữ cái\n",
        "print(gernes)\n",
        "print(len(gernes))"
      ],
      "metadata": {
        "colab": {
          "base_uri": "https://localhost:8080/"
        },
        "id": "eovXZ4mNcXVi",
        "outputId": "86a352e4-b39c-49b1-b7e6-ec5b1b7ec34f"
      },
      "execution_count": 46,
      "outputs": [
        {
          "output_type": "stream",
          "name": "stdout",
          "text": [
            "['Action', 'Adapted to Anime', 'Adapted to Drama CD', 'Adapted to Manga', 'Adult', 'Adventure', 'Chinese Novel', 'Comedy', 'Cooking', 'Drama', 'Ecchi', 'English Novel', 'Fantasy', 'Game', 'Gender Bender', 'Harem', 'Historical', 'Horror', 'Incest', 'Isekai', 'Josei', 'Korean Novel', 'Magic', 'Martial Arts', 'Mature', 'Mecha', 'Military', 'Mystery', 'Netorare', 'One shot', 'Otome Game', 'Psychological', 'Reverse Harem', 'Romance', 'School Life', 'Science Fiction', 'Seinen', 'Shoujo', 'Shoujo ai', 'Shounen', 'Shounen ai', 'Slice of Life', 'Sports', 'Super Power', 'Supernatural', 'Suspense', 'Tragedy', 'Web Novel', 'Yuri']\n",
            "49\n"
          ]
        }
      ]
    },
    {
      "cell_type": "code",
      "source": [
        "# số truyện có có trong từng thể loại\n",
        "gernes_count =[]\n",
        "def gerne_count(X):\n",
        "  count = 0\n",
        "  for i in df_1:\n",
        "    isA = False\n",
        "    t = i.split(',')\n",
        "    for x in t:\n",
        "      x = x.strip()\n",
        "      if x == X:\n",
        "        isA = True\n",
        "    if isA == True:\n",
        "      count+=1\n",
        "  return count\n",
        "for i in gernes:\n",
        "  gernes_count.append(gerne_count(i))\n"
      ],
      "metadata": {
        "id": "3PwgQ9XVibsJ"
      },
      "execution_count": 47,
      "outputs": []
    },
    {
      "cell_type": "code",
      "source": [
        "print(gernes_count)\n"
      ],
      "metadata": {
        "colab": {
          "base_uri": "https://localhost:8080/"
        },
        "id": "wsqrppkSkY1t",
        "outputId": "0d79f9b9-7c2a-46f8-abb9-e88a04656565"
      },
      "execution_count": 50,
      "outputs": [
        {
          "output_type": "stream",
          "name": "stdout",
          "text": [
            "[939, 64, 17, 203, 105, 831, 53, 1022, 22, 621, 327, 2, 1187, 58, 86, 615, 43, 87, 17, 332, 45, 131, 213, 64, 182, 44, 43, 200, 6, 74, 31, 210, 6, 1182, 508, 117, 211, 144, 75, 271, 8, 526, 3, 156, 335, 18, 209, 564, 53]\n"
          ]
        }
      ]
    }
  ]
}